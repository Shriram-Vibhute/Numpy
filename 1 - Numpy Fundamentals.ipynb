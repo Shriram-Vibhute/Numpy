{
  "cells": [
    {
      "cell_type": "markdown",
      "metadata": {
        "id": "lFF783PD7ypT"
      },
      "source": [
        "### What is numpy?\n",
        "\n",
        "NumPy is the fundamental package for scientific computing in Python. It is a Python library that provides a multidimensional array object, various derived objects (such as masked arrays and matrices), and an assortment of routines for fast operations on arrays, including mathematical, logical, shape manipulation, sorting, selecting, I/O, discrete Fourier transforms, basic linear algebra, basic statistical operations, random simulation and much more.\n",
        "\n",
        "\n",
        "At the core of the NumPy package, is the ndarray object. This encapsulates n-dimensional arrays of homogeneous data types"
      ]
    },
    {
      "cell_type": "markdown",
      "metadata": {
        "id": "HPRzhmwiZkOP"
      },
      "source": [
        "### Numpy Arrays Vs Python Sequences\n",
        "\n",
        "- NumPy arrays have a fixed size at creation, unlike Python lists (which can grow dynamically). Changing the size of an ndarray will create a new array and delete the original.\n",
        "\n",
        "- The elements in a NumPy array are all required to be of the same data type, and thus will be the same size in memory.\n",
        "\n",
        "- NumPy arrays facilitate advanced mathematical and other types of operations on large numbers of data. Typically, such operations are executed more efficiently and with less code than is possible using Python’s built-in sequences.\n",
        "\n",
        "- A growing plethora of scientific and mathematical Python-based packages are using NumPy arrays; though these typically support Python-sequence input, they convert such input to NumPy arrays prior to processing, and they often output NumPy arrays."
      ]
    },
    {
      "cell_type": "markdown",
      "metadata": {
        "id": "0PyrZ724szaG"
      },
      "source": [
        "**Creating Numpy Arrays**"
      ]
    },
    {
      "cell_type": "code",
      "execution_count": 1,
      "metadata": {
        "colab": {
          "base_uri": "https://localhost:8080/"
        },
        "id": "V4AVNXrts3sL",
        "outputId": "cc4f0216-cdc3-4b8b-9086-c4bb760a8f40"
      },
      "outputs": [
        {
          "name": "stdout",
          "output_type": "stream",
          "text": [
            "[1 2 3]\n"
          ]
        }
      ],
      "source": [
        "# np.array\n",
        "import numpy as np\n",
        "\n",
        "a = np.array([1,2,3])\n",
        "print(a)"
      ]
    },
    {
      "cell_type": "code",
      "execution_count": null,
      "metadata": {
        "colab": {
          "base_uri": "https://localhost:8080/"
        },
        "id": "AAfxD1kCs6R5",
        "outputId": "e71d27eb-3106-43fd-8147-5a33b645f8b0"
      },
      "outputs": [
        {
          "name": "stdout",
          "output_type": "stream",
          "text": [
            "[[1 2 3]\n",
            " [4 5 6]]\n"
          ]
        }
      ],
      "source": [
        "# 2D and 3D\n",
        "b = np.array([[1,2,3],[4,5,6]])\n",
        "print(b)"
      ]
    },
    {
      "cell_type": "code",
      "execution_count": null,
      "metadata": {
        "colab": {
          "base_uri": "https://localhost:8080/"
        },
        "id": "MyrHdd6J6CrF",
        "outputId": "2d7750a8-6e28-424d-bac4-7e61e7e73e9f"
      },
      "outputs": [
        {
          "name": "stdout",
          "output_type": "stream",
          "text": [
            "[[[1 2]\n",
            "  [3 4]]\n",
            "\n",
            " [[5 6]\n",
            "  [7 8]]]\n"
          ]
        }
      ],
      "source": [
        "c = np.array([[[1,2],[3,4]],[[5,6],[7,8]]])\n",
        "print(c)"
      ]
    },
    {
      "cell_type": "code",
      "execution_count": null,
      "metadata": {
        "colab": {
          "base_uri": "https://localhost:8080/"
        },
        "id": "FM8AwUOdFqC7",
        "outputId": "63ee85e6-449e-4e1f-e5a3-563bfae4dc9e"
      },
      "outputs": [
        {
          "data": {
            "text/plain": [
              "array([1., 2., 3.])"
            ]
          },
          "execution_count": 74,
          "metadata": {},
          "output_type": "execute_result"
        }
      ],
      "source": [
        "# dtype\n",
        "np.array([1,2,3],dtype=float)"
      ]
    },
    {
      "cell_type": "code",
      "execution_count": null,
      "metadata": {
        "colab": {
          "base_uri": "https://localhost:8080/"
        },
        "id": "ZY187Au_s8vm",
        "outputId": "cb13d451-a431-446f-f3a3-245315da6775"
      },
      "outputs": [
        {
          "data": {
            "text/plain": [
              "array([1, 3, 5, 7, 9])"
            ]
          },
          "execution_count": 76,
          "metadata": {},
          "output_type": "execute_result"
        }
      ],
      "source": [
        "# np.arange - range function in python\n",
        "np.arange(1,11,2)"
      ]
    },
    {
      "cell_type": "code",
      "execution_count": null,
      "metadata": {
        "colab": {
          "base_uri": "https://localhost:8080/"
        },
        "id": "3Gc7BaJZwl7e",
        "outputId": "1cd20e1e-9077-4fa9-b8d8-ecd06e1563a2"
      },
      "outputs": [
        {
          "name": "stdout",
          "output_type": "stream",
          "text": [
            "[[ 1  2]\n",
            " [ 3  4]\n",
            " [ 5  6]\n",
            " [ 7  8]\n",
            " [ 9 10]]\n"
          ]
        },
        {
          "data": {
            "text/plain": [
              "array([[[ 0,  1,  2,  3],\n",
              "        [ 4,  5,  6,  7]],\n",
              "\n",
              "       [[ 8,  9, 10, 11],\n",
              "        [12, 13, 14, 15]]])"
            ]
          },
          "execution_count": 7,
          "metadata": {},
          "output_type": "execute_result"
        }
      ],
      "source": [
        "# with reshape\n",
        "\n",
        "# Basic use\n",
        "a = np.arange(1, 11).reshape(5,2)\n",
        "print(a)\n",
        "\n",
        "# Another way -> The product must be equal to the size of an array\n",
        "b = np.arange(16).reshape(2, 2, 4)\n",
        "print(b)"
      ]
    },
    {
      "cell_type": "code",
      "execution_count": null,
      "metadata": {
        "colab": {
          "base_uri": "https://localhost:8080/"
        },
        "id": "R2BYpYcGs-9l",
        "outputId": "992ba3c5-532b-4229-997b-b584de7d36d8"
      },
      "outputs": [
        {
          "data": {
            "text/plain": [
              "array([[1., 1., 1., 1.],\n",
              "       [1., 1., 1., 1.],\n",
              "       [1., 1., 1., 1.]])"
            ]
          },
          "execution_count": 84,
          "metadata": {},
          "output_type": "execute_result"
        }
      ],
      "source": [
        "# np.ones and np.zeros - Mostly used in Neural Networks for creating instant arrays\n",
        "np.ones((3,4))"
      ]
    },
    {
      "cell_type": "code",
      "execution_count": null,
      "metadata": {
        "colab": {
          "base_uri": "https://localhost:8080/"
        },
        "id": "vOjv_Euj8HGR",
        "outputId": "b4a1780e-d057-424b-8c6b-e182853126f0"
      },
      "outputs": [
        {
          "data": {
            "text/plain": [
              "array([[0, 0, 0, 0],\n",
              "       [0, 0, 0, 0],\n",
              "       [0, 0, 0, 0]])"
            ]
          },
          "execution_count": 10,
          "metadata": {},
          "output_type": "execute_result"
        }
      ],
      "source": [
        "np.zeros((3,4), dtype = int)"
      ]
    },
    {
      "cell_type": "markdown",
      "metadata": {},
      "source": [
        "**np.random functions**"
      ]
    },
    {
      "cell_type": "code",
      "execution_count": 7,
      "metadata": {
        "colab": {
          "base_uri": "https://localhost:8080/"
        },
        "id": "fYEeYi7itCRM",
        "outputId": "b648994b-8aba-4bf4-f7d3-435d868ab2f4"
      },
      "outputs": [
        {
          "name": "stdout",
          "output_type": "stream",
          "text": [
            "[1 4 7 7]\n"
          ]
        },
        {
          "data": {
            "text/plain": [
              "array([4, 7, 9])"
            ]
          },
          "execution_count": 7,
          "metadata": {},
          "output_type": "execute_result"
        }
      ],
      "source": [
        "# np.random\n",
        "np.random.random((3,4))\n",
        "\n",
        "# another variations\n",
        "np.random.randint(1, 10, size = 6)\n",
        "\n",
        "# Fancy indexing - Explained in Advance numpy notebook\n",
        "print(np.random.randint(1, [3, 5, 10, 11])) # Explain ?\n",
        "np.random.randint([1, 5, 7], 10) # Explain ?"
      ]
    },
    {
      "cell_type": "code",
      "execution_count": null,
      "metadata": {
        "colab": {
          "base_uri": "https://localhost:8080/"
        },
        "id": "vel7WrgltE3P",
        "outputId": "21b993d2-c91c-42fa-f97c-030b87cc292a"
      },
      "outputs": [
        {
          "data": {
            "text/plain": [
              "array([-10,  -8,  -6,  -4,  -2,   1,   3,   5,   7,  10])"
            ]
          },
          "execution_count": 89,
          "metadata": {},
          "output_type": "execute_result"
        }
      ],
      "source": [
        "# np.linspace\n",
        "np.linspace(-10,10,10,dtype=int)"
      ]
    },
    {
      "cell_type": "code",
      "execution_count": null,
      "metadata": {
        "colab": {
          "base_uri": "https://localhost:8080/"
        },
        "id": "ewyMuXh1tJzi",
        "outputId": "921cf302-94d7-4d44-d696-881b839ced04"
      },
      "outputs": [
        {
          "data": {
            "text/plain": [
              "array([[1., 0., 0.],\n",
              "       [0., 1., 0.],\n",
              "       [0., 0., 1.]])"
            ]
          },
          "execution_count": 88,
          "metadata": {},
          "output_type": "execute_result"
        }
      ],
      "source": [
        "# np.identity\n",
        "np.identity(3)"
      ]
    },
    {
      "cell_type": "markdown",
      "metadata": {
        "id": "LphXpjZJtNyI"
      },
      "source": [
        "**Array Attributes**"
      ]
    },
    {
      "cell_type": "code",
      "execution_count": null,
      "metadata": {
        "colab": {
          "base_uri": "https://localhost:8080/"
        },
        "id": "UXnB5dIEFOgD",
        "outputId": "d6261278-40ee-4caa-cf15-946552e4e7c0"
      },
      "outputs": [
        {
          "data": {
            "text/plain": [
              "array([[[0, 1],\n",
              "        [2, 3]],\n",
              "\n",
              "       [[4, 5],\n",
              "        [6, 7]]])"
            ]
          },
          "execution_count": 110,
          "metadata": {},
          "output_type": "execute_result"
        }
      ],
      "source": [
        "a1 = np.arange(10,dtype=np.int32)\n",
        "a2 = np.arange(12,dtype=float).reshape(3,4)\n",
        "a3 = np.arange(8).reshape(2,2,2)\n",
        "\n",
        "a3"
      ]
    },
    {
      "cell_type": "code",
      "execution_count": null,
      "metadata": {
        "colab": {
          "base_uri": "https://localhost:8080/"
        },
        "id": "qib4oDFptRKN",
        "outputId": "b70741e8-d727-4c59-b6ed-b8fd922501b8"
      },
      "outputs": [
        {
          "data": {
            "text/plain": [
              "3"
            ]
          },
          "execution_count": 96,
          "metadata": {},
          "output_type": "execute_result"
        }
      ],
      "source": [
        "# ndim - no. of layers\n",
        "a3.ndim"
      ]
    },
    {
      "cell_type": "code",
      "execution_count": null,
      "metadata": {
        "colab": {
          "base_uri": "https://localhost:8080/"
        },
        "id": "InUvH8KGtSRv",
        "outputId": "d567d4cb-a533-4419-e4de-677dc5dd87bb"
      },
      "outputs": [
        {
          "name": "stdout",
          "output_type": "stream",
          "text": [
            "(2, 2, 2)\n"
          ]
        },
        {
          "data": {
            "text/plain": [
              "array([[[0, 1],\n",
              "        [2, 3]],\n",
              "\n",
              "       [[4, 5],\n",
              "        [6, 7]]])"
            ]
          },
          "execution_count": 100,
          "metadata": {},
          "output_type": "execute_result"
        }
      ],
      "source": [
        "# shape - no.of elements present in each layer\n",
        "print(a3.shape)\n",
        "a3"
      ]
    },
    {
      "cell_type": "code",
      "execution_count": null,
      "metadata": {
        "colab": {
          "base_uri": "https://localhost:8080/"
        },
        "id": "9Dko5610tT-Z",
        "outputId": "5e8fdaa5-d444-4867-8ad0-3acf299c391e"
      },
      "outputs": [
        {
          "name": "stdout",
          "output_type": "stream",
          "text": [
            "12\n"
          ]
        },
        {
          "data": {
            "text/plain": [
              "array([[ 0.,  1.,  2.,  3.],\n",
              "       [ 4.,  5.,  6.,  7.],\n",
              "       [ 8.,  9., 10., 11.]])"
            ]
          },
          "execution_count": 103,
          "metadata": {},
          "output_type": "execute_result"
        }
      ],
      "source": [
        "# size\n",
        "print(a2.size)\n",
        "a2"
      ]
    },
    {
      "cell_type": "code",
      "execution_count": null,
      "metadata": {
        "colab": {
          "base_uri": "https://localhost:8080/"
        },
        "id": "wDFdHtH3tV1Z",
        "outputId": "dd8bf2cd-bc17-4d6c-ae17-06ae052ab711"
      },
      "outputs": [
        {
          "data": {
            "text/plain": [
              "8"
            ]
          },
          "execution_count": 112,
          "metadata": {},
          "output_type": "execute_result"
        }
      ],
      "source": [
        "# itemsize\n",
        "a3.itemsize"
      ]
    },
    {
      "cell_type": "code",
      "execution_count": null,
      "metadata": {
        "colab": {
          "base_uri": "https://localhost:8080/"
        },
        "id": "Pik7FgEVtXDj",
        "outputId": "00b7b1ad-d200-4c7c-e440-ba3c05928073"
      },
      "outputs": [
        {
          "name": "stdout",
          "output_type": "stream",
          "text": [
            "int32\n",
            "float64\n",
            "int64\n"
          ]
        }
      ],
      "source": [
        "# dtype\n",
        "print(a1.dtype)\n",
        "print(a2.dtype)\n",
        "print(a3.dtype)\n",
        "\n"
      ]
    },
    {
      "cell_type": "markdown",
      "metadata": {
        "id": "7Ase0eFWtcFl"
      },
      "source": [
        "**Changing Datatype**"
      ]
    },
    {
      "cell_type": "code",
      "execution_count": null,
      "metadata": {
        "colab": {
          "base_uri": "https://localhost:8080/"
        },
        "id": "DZPEFqhotbFS",
        "outputId": "848bd55f-1d69-4443-c832-d2735f4611f3"
      },
      "outputs": [
        {
          "data": {
            "text/plain": [
              "array([[[0, 1],\n",
              "        [2, 3]],\n",
              "\n",
              "       [[4, 5],\n",
              "        [6, 7]]], dtype=int32)"
            ]
          },
          "execution_count": 117,
          "metadata": {},
          "output_type": "execute_result"
        }
      ],
      "source": [
        "# astype\n",
        "a3.astype(np.int32)"
      ]
    },
    {
      "cell_type": "markdown",
      "metadata": {
        "id": "k-y-aaV9u52l"
      },
      "source": [
        "**Array Operations**"
      ]
    },
    {
      "cell_type": "markdown",
      "metadata": {},
      "source": [
        "*While doing operations between two vectors the array shape must be same*"
      ]
    },
    {
      "cell_type": "code",
      "execution_count": null,
      "metadata": {
        "colab": {
          "base_uri": "https://localhost:8080/"
        },
        "id": "mIk8tk53HnOW",
        "outputId": "902df590-8ac9-4e85-b8cc-6c2bcdb56adf"
      },
      "outputs": [
        {
          "data": {
            "text/plain": [
              "array([[12, 13, 14, 15],\n",
              "       [16, 17, 18, 19],\n",
              "       [20, 21, 22, 23]])"
            ]
          },
          "execution_count": 24,
          "metadata": {},
          "output_type": "execute_result"
        }
      ],
      "source": [
        "a1 = np.arange(12).reshape(3,4)\n",
        "a2 = np.arange(12,24).reshape(3,4)\n",
        "\n",
        "a2"
      ]
    },
    {
      "cell_type": "code",
      "execution_count": null,
      "metadata": {
        "colab": {
          "base_uri": "https://localhost:8080/"
        },
        "id": "vtQrWQKD87Fn",
        "outputId": "632feb6a-d00e-481f-806c-7b8589742bd2"
      },
      "outputs": [
        {
          "data": {
            "text/plain": [
              "array([[  0,   1,   4,   9],\n",
              "       [ 16,  25,  36,  49],\n",
              "       [ 64,  81, 100, 121]])"
            ]
          },
          "execution_count": 124,
          "metadata": {},
          "output_type": "execute_result"
        }
      ],
      "source": [
        "# scalar operations\n",
        "\n",
        "# arithmetic\n",
        "a1 ** 2"
      ]
    },
    {
      "cell_type": "code",
      "execution_count": 6,
      "metadata": {
        "colab": {
          "base_uri": "https://localhost:8080/",
          "height": 176
        },
        "id": "GIegtcPGj8F6",
        "outputId": "87c8a342-61d1-4fe9-d43e-5b2b4a7f8924"
      },
      "outputs": [
        {
          "ename": "ValueError",
          "evalue": "operands could not be broadcast together with shapes (2,5) (5,2) ",
          "output_type": "error",
          "traceback": [
            "\u001b[0;31m---------------------------------------------------------------------------\u001b[0m",
            "\u001b[0;31mValueError\u001b[0m                                Traceback (most recent call last)",
            "\u001b[0;32m<ipython-input-6-aca6a4b5379f>\u001b[0m in \u001b[0;36m<cell line: 4>\u001b[0;34m()\u001b[0m\n\u001b[1;32m      2\u001b[0m \u001b[0mtemp2\u001b[0m \u001b[0;34m=\u001b[0m \u001b[0mnp\u001b[0m\u001b[0;34m.\u001b[0m\u001b[0marange\u001b[0m\u001b[0;34m(\u001b[0m\u001b[0;36m1\u001b[0m\u001b[0;34m,\u001b[0m \u001b[0;36m11\u001b[0m\u001b[0;34m)\u001b[0m\u001b[0;34m.\u001b[0m\u001b[0mreshape\u001b[0m\u001b[0;34m(\u001b[0m\u001b[0;36m5\u001b[0m\u001b[0;34m,\u001b[0m \u001b[0;36m2\u001b[0m\u001b[0;34m)\u001b[0m\u001b[0;34m\u001b[0m\u001b[0;34m\u001b[0m\u001b[0m\n\u001b[1;32m      3\u001b[0m \u001b[0;34m\u001b[0m\u001b[0m\n\u001b[0;32m----> 4\u001b[0;31m \u001b[0mtemp\u001b[0m \u001b[0;34m+\u001b[0m \u001b[0mtemp2\u001b[0m \u001b[0;31m# There is a concept of array broadcansing which is discussed in advance numpy notebook\u001b[0m\u001b[0;34m\u001b[0m\u001b[0;34m\u001b[0m\u001b[0m\n\u001b[0m",
            "\u001b[0;31mValueError\u001b[0m: operands could not be broadcast together with shapes (2,5) (5,2) "
          ]
        }
      ],
      "source": [
        "temp = np.arange(1, 11).reshape(2, 5)\n",
        "temp2 = np.arange(1, 11).reshape(5, 2)\n",
        "\n",
        "temp + temp2 # Array broadcansing"
      ]
    },
    {
      "cell_type": "code",
      "execution_count": null,
      "metadata": {
        "colab": {
          "base_uri": "https://localhost:8080/"
        },
        "id": "mCgPxTzQrtte",
        "outputId": "14a8bbd7-363d-42a7-bc28-984d37c6de07"
      },
      "outputs": [
        {
          "data": {
            "text/plain": [
              "array([[False, False, False,  True],\n",
              "       [False, False, False, False],\n",
              "       [False, False, False, False]])"
            ]
          },
          "execution_count": 129,
          "metadata": {},
          "output_type": "execute_result"
        }
      ],
      "source": [
        "# relational\n",
        "a2 == 15"
      ]
    },
    {
      "cell_type": "code",
      "execution_count": null,
      "metadata": {
        "colab": {
          "base_uri": "https://localhost:8080/"
        },
        "id": "E2S3xDRxrt5D",
        "outputId": "2dfc1e18-65f7-4131-aed8-67bcc7b0996b"
      },
      "outputs": [
        {
          "data": {
            "text/plain": [
              "array([[                   0,                    1,                16384,\n",
              "                    14348907],\n",
              "       [          4294967296,         762939453125,      101559956668416,\n",
              "           11398895185373143],\n",
              "       [ 1152921504606846976, -1261475310744950487,  1864712049423024128,\n",
              "         6839173302027254275]])"
            ]
          },
          "execution_count": 135,
          "metadata": {},
          "output_type": "execute_result"
        }
      ],
      "source": [
        "# vector operations\n",
        "# arithmetic\n",
        "a1 ** a2"
      ]
    },
    {
      "cell_type": "markdown",
      "metadata": {
        "id": "AQZgntYTu8ot"
      },
      "source": [
        "**Array Functions**"
      ]
    },
    {
      "cell_type": "code",
      "execution_count": 9,
      "metadata": {
        "colab": {
          "base_uri": "https://localhost:8080/"
        },
        "id": "CHUj0a_dIP4F",
        "outputId": "5667c29f-8ffd-45df-bc88-6885a207ee03"
      },
      "outputs": [
        {
          "data": {
            "text/plain": [
              "array([[24., 68., 87.],\n",
              "       [86., 75., 37.],\n",
              "       [59., 59., 20.]])"
            ]
          },
          "execution_count": 9,
          "metadata": {},
          "output_type": "execute_result"
        }
      ],
      "source": [
        "a1 = np.random.random((3,3))\n",
        "a1 = np.round(a1*100)\n",
        "a1\n",
        "# 2.5 round - 2"
      ]
    },
    {
      "cell_type": "markdown",
      "metadata": {
        "id": "IMO_PLw4mdI7"
      },
      "source": [
        "**Aggrigation Functions**"
      ]
    },
    {
      "cell_type": "code",
      "execution_count": null,
      "metadata": {
        "colab": {
          "base_uri": "https://localhost:8080/"
        },
        "id": "J1EWNET29Urx",
        "outputId": "34e6d72b-35f5-4dc3-f107-289bb0396c39"
      },
      "outputs": [
        {
          "data": {
            "text/plain": [
              "array([35991., 46872., 17892.])"
            ]
          },
          "execution_count": 148,
          "metadata": {},
          "output_type": "execute_result"
        }
      ],
      "source": [
        "# max/min/sum/prod\n",
        "# 0 -> col and 1 -> row\n",
        "np.prod(a1,axis=0)"
      ]
    },
    {
      "cell_type": "code",
      "execution_count": null,
      "metadata": {
        "colab": {
          "base_uri": "https://localhost:8080/"
        },
        "id": "JAlMLFkds9KC",
        "outputId": "63636deb-3321-4714-d5a4-388445e1c492"
      },
      "outputs": [
        {
          "data": {
            "text/plain": [
              "array([317.55555556, 854.        ,  96.22222222])"
            ]
          },
          "execution_count": 153,
          "metadata": {},
          "output_type": "execute_result"
        }
      ],
      "source": [
        "# mean/median/std/var\n",
        "np.var(a1,axis=1)"
      ]
    },
    {
      "cell_type": "code",
      "execution_count": null,
      "metadata": {
        "colab": {
          "base_uri": "https://localhost:8080/"
        },
        "id": "vwLoQQVqs-m-",
        "outputId": "128781c4-4e3d-4748-c619-cdb874c99d9b"
      },
      "outputs": [
        {
          "data": {
            "text/plain": [
              "array([[-0.83177474,  0.27090579,  0.95105465],\n",
              "       [ 0.95637593, -0.94828214, -0.99177885],\n",
              "       [-0.40403765, -0.75098725,  0.6569866 ]])"
            ]
          },
          "execution_count": 154,
          "metadata": {},
          "output_type": "execute_result"
        }
      ],
      "source": [
        "# trigonomoetric functions\n",
        "np.sin(a1)"
      ]
    },
    {
      "cell_type": "markdown",
      "metadata": {},
      "source": [
        "**dot product**"
      ]
    },
    {
      "cell_type": "code",
      "execution_count": null,
      "metadata": {
        "colab": {
          "base_uri": "https://localhost:8080/"
        },
        "id": "RoEtYuiytFm1",
        "outputId": "7ab0e6f1-820d-4deb-c7a3-b3301eed9ec4"
      },
      "outputs": [
        {
          "data": {
            "text/plain": [
              "array([[114, 120, 126],\n",
              "       [378, 400, 422],\n",
              "       [642, 680, 718]])"
            ]
          },
          "execution_count": 157,
          "metadata": {},
          "output_type": "execute_result"
        }
      ],
      "source": [
        "# dot product\n",
        "a2 = np.arange(12).reshape(3,4)\n",
        "a3 = np.arange(12,24).reshape(4,3)\n",
        "\n",
        "np.dot(a2,a3)"
      ]
    },
    {
      "cell_type": "markdown",
      "metadata": {
        "id": "_3uD92Cio2Aq"
      },
      "source": [
        "**Difference between dot and (multiply sign) functions for doing multiplication of two arrays**"
      ]
    },
    {
      "cell_type": "code",
      "execution_count": 7,
      "metadata": {
        "colab": {
          "base_uri": "https://localhost:8080/"
        },
        "id": "P-GE5FGUwNVj",
        "outputId": "7b4a5495-6f87-4129-908b-1255afe6579b"
      },
      "outputs": [
        {
          "name": "stdout",
          "output_type": "stream",
          "text": [
            "[ 4 10 18]\n",
            "6\n",
            "32\n"
          ]
        }
      ],
      "source": [
        "a = np.array([1, 2, 3])\n",
        "b = np.array([4, 5, 6])\n",
        "\n",
        "print(a * b) # here each element is multiplied with its corrosponding positional element of other array\n",
        "\n",
        "print(np.prod(a)) # Product of all elements in a single array\n",
        "\n",
        "c = np.reshape(len(b), 1)\n",
        "print(np.dot(a, b)) # No. of columns of 1st array = No. of rows of 2nd array"
      ]
    },
    {
      "cell_type": "code",
      "execution_count": 10,
      "metadata": {
        "colab": {
          "base_uri": "https://localhost:8080/"
        },
        "id": "qd7GmrgEtH6i",
        "outputId": "5df18f22-6eda-4473-ecb2-1ddfbaeeccad"
      },
      "outputs": [
        {
          "data": {
            "text/plain": [
              "array([[3.17805383, 4.21950771, 4.46590812],\n",
              "       [4.4543473 , 4.31748811, 3.61091791],\n",
              "       [4.07753744, 4.07753744, 2.99573227]])"
            ]
          },
          "execution_count": 10,
          "metadata": {},
          "output_type": "execute_result"
        }
      ],
      "source": [
        "# log and exponents\n",
        "np.exp(a1)\n",
        "\n",
        "np.log(a1)"
      ]
    },
    {
      "cell_type": "code",
      "execution_count": null,
      "metadata": {
        "colab": {
          "base_uri": "https://localhost:8080/"
        },
        "id": "EOXnVCZhtKk1",
        "outputId": "3be37070-696a-46e9-b5e7-6298bf2cdbb9"
      },
      "outputs": [
        {
          "data": {
            "text/plain": [
              "array([[48.,  4.,  6.],\n",
              "       [ 3., 18., 82.]])"
            ]
          },
          "execution_count": 165,
          "metadata": {},
          "output_type": "execute_result"
        }
      ],
      "source": [
        "# round/floor/ceil\n",
        "\n",
        "np.ceil(np.random.random((2,3))*100)"
      ]
    },
    {
      "cell_type": "markdown",
      "metadata": {
        "id": "2pYZJMrAuvuv"
      },
      "source": [
        "**Indexing and Slicing**"
      ]
    },
    {
      "cell_type": "code",
      "execution_count": 11,
      "metadata": {
        "colab": {
          "base_uri": "https://localhost:8080/"
        },
        "id": "v1LynzX9u2R-",
        "outputId": "11fd5829-c5f7-46f0-f577-4090706d7dd0"
      },
      "outputs": [
        {
          "name": "stdout",
          "output_type": "stream",
          "text": [
            "[0 1 2 3 4 5 6 7 8 9]\n",
            "[[ 0  1  2  3]\n",
            " [ 4  5  6  7]\n",
            " [ 8  9 10 11]]\n",
            "[[[0 1]\n",
            "  [2 3]]\n",
            "\n",
            " [[4 5]\n",
            "  [6 7]]]\n"
          ]
        }
      ],
      "source": [
        "a1 = np.arange(10)\n",
        "a2 = np.arange(12).reshape(3,4)\n",
        "a3 = np.arange(8).reshape(2,2,2)\n",
        "\n",
        "print(a1)\n",
        "print(a2)\n",
        "print(a3)"
      ]
    },
    {
      "cell_type": "code",
      "execution_count": 18,
      "metadata": {
        "colab": {
          "base_uri": "https://localhost:8080/"
        },
        "id": "gDJOrLSxpjxY",
        "outputId": "e46dedde-6996-475f-8239-8506b5ac11e4"
      },
      "outputs": [
        {
          "name": "stdout",
          "output_type": "stream",
          "text": [
            "8\n",
            "[5 4 3 2 1]\n"
          ]
        }
      ],
      "source": [
        "# Indexing and slicing in 1D array\n",
        "print(a1[len(a1) - 2])\n",
        "print(a1[5:0:-1]) # for reversed array (-1) the first number must be greater than second\n",
        "\n",
        "# Indexing and slicing in 2D array\n",
        "print(a2[2, 2])\n",
        "print(a2[[0, 2], 1::]) # Fancy indexing\n",
        "\n",
        "# Indexing and slicing in 3D array\n",
        "print(a3[1,1,1])\n",
        "print(a3[::, 0:1:, ::])"
      ]
    },
    {
      "cell_type": "code",
      "execution_count": null,
      "metadata": {
        "colab": {
          "base_uri": "https://localhost:8080/"
        },
        "id": "GIR5YhVzu2dc",
        "outputId": "5827789b-c94c-4343-f4bf-c37c0e55ae7b"
      },
      "outputs": [
        {
          "data": {
            "text/plain": [
              "4"
            ]
          },
          "execution_count": 175,
          "metadata": {},
          "output_type": "execute_result"
        }
      ],
      "source": [
        "a2[1,0] # 1st dimention - row | 2nd dimention column for 2D"
      ]
    },
    {
      "cell_type": "code",
      "execution_count": null,
      "metadata": {
        "colab": {
          "base_uri": "https://localhost:8080/"
        },
        "id": "xG7HU0RgHQD-",
        "outputId": "c0c15e95-2b15-4167-aeea-a2e9751aedb8"
      },
      "outputs": [
        {
          "data": {
            "text/plain": [
              "5"
            ]
          },
          "execution_count": 177,
          "metadata": {},
          "output_type": "execute_result"
        }
      ],
      "source": [
        "a3[1,0,1] # How this 3 numbers are represented - External to internal"
      ]
    },
    {
      "cell_type": "code",
      "execution_count": null,
      "metadata": {
        "colab": {
          "base_uri": "https://localhost:8080/"
        },
        "id": "HnFM0Wa5IMw2",
        "outputId": "312df828-b754-46e8-e47c-b6f3f2d11ad8"
      },
      "outputs": [
        {
          "data": {
            "text/plain": [
              "array([2, 4])"
            ]
          },
          "execution_count": 182,
          "metadata": {},
          "output_type": "execute_result"
        }
      ],
      "source": [
        "a1[2:5:2] # accessing elements with strids"
      ]
    },
    {
      "cell_type": "markdown",
      "metadata": {
        "id": "n4WcD3KV6Qko"
      },
      "source": [
        "**Accessing elements in 2d and 3d array**"
      ]
    },
    {
      "cell_type": "code",
      "execution_count": null,
      "metadata": {
        "colab": {
          "base_uri": "https://localhost:8080/"
        },
        "id": "SDWOK56EIM3n",
        "outputId": "682830f3-6c21-43c3-9b05-df473541570c"
      },
      "outputs": [
        {
          "data": {
            "text/plain": [
              "array([[ 0,  1,  2,  3],\n",
              "       [ 4,  5,  6,  7],\n",
              "       [ 8,  9, 10, 11]])"
            ]
          },
          "execution_count": 183,
          "metadata": {},
          "output_type": "execute_result"
        }
      ],
      "source": [
        "a2"
      ]
    },
    {
      "cell_type": "code",
      "execution_count": null,
      "metadata": {
        "colab": {
          "base_uri": "https://localhost:8080/"
        },
        "id": "6vzJm66S6ZQV",
        "outputId": "aeb5e63e-ffe8-474e-840d-fd5a8b80e0cb"
      },
      "outputs": [
        {
          "data": {
            "text/plain": [
              "array([[ 0,  3],\n",
              "       [ 8, 11]])"
            ]
          },
          "execution_count": 39,
          "metadata": {},
          "output_type": "execute_result"
        }
      ],
      "source": [
        "a2[::2, 0:4:3]"
      ]
    },
    {
      "cell_type": "code",
      "execution_count": null,
      "metadata": {
        "colab": {
          "base_uri": "https://localhost:8080/"
        },
        "id": "mi2B5NN9IM-B",
        "outputId": "673febf9-b6ed-4fb7-d12d-32e9b3a9938a"
      },
      "outputs": [
        {
          "data": {
            "text/plain": [
              "array([0, 1, 2, 3])"
            ]
          },
          "execution_count": 184,
          "metadata": {},
          "output_type": "execute_result"
        }
      ],
      "source": [
        "a2[0,:]"
      ]
    },
    {
      "cell_type": "code",
      "execution_count": null,
      "metadata": {
        "colab": {
          "base_uri": "https://localhost:8080/"
        },
        "id": "u7dQcPKpINDS",
        "outputId": "dd032bf5-8e11-4f23-9ec7-5e1807fda319"
      },
      "outputs": [
        {
          "data": {
            "text/plain": [
              "array([ 2,  6, 10])"
            ]
          },
          "execution_count": 185,
          "metadata": {},
          "output_type": "execute_result"
        }
      ],
      "source": [
        "a2[:,2] #Imp"
      ]
    },
    {
      "cell_type": "code",
      "execution_count": null,
      "metadata": {
        "colab": {
          "base_uri": "https://localhost:8080/"
        },
        "id": "GYjyXNKnINTA",
        "outputId": "d1214ff7-d55d-43e4-94bb-8a6153a07a8a"
      },
      "outputs": [
        {
          "data": {
            "text/plain": [
              "array([[ 5,  6],\n",
              "       [ 9, 10]])"
            ]
          },
          "execution_count": 186,
          "metadata": {},
          "output_type": "execute_result"
        }
      ],
      "source": [
        "a2[1:,1:3]"
      ]
    },
    {
      "cell_type": "markdown",
      "metadata": {
        "id": "XiOIiAPm7fSe"
      },
      "source": [
        "**Accessing elements in 3d array**"
      ]
    },
    {
      "cell_type": "code",
      "execution_count": null,
      "metadata": {
        "colab": {
          "base_uri": "https://localhost:8080/"
        },
        "id": "Z-24y62tK7KO",
        "outputId": "41eb67f0-d6f2-4c25-e64f-0482607c4d27"
      },
      "outputs": [
        {
          "data": {
            "text/plain": [
              "array([[[ 0,  1,  2],\n",
              "        [ 3,  4,  5],\n",
              "        [ 6,  7,  8]],\n",
              "\n",
              "       [[ 9, 10, 11],\n",
              "        [12, 13, 14],\n",
              "        [15, 16, 17]],\n",
              "\n",
              "       [[18, 19, 20],\n",
              "        [21, 22, 23],\n",
              "        [24, 25, 26]]])"
            ]
          },
          "execution_count": 195,
          "metadata": {},
          "output_type": "execute_result"
        }
      ],
      "source": [
        "a3 = np.arange(27).reshape(3,3,3)\n",
        "a3"
      ]
    },
    {
      "cell_type": "code",
      "execution_count": null,
      "metadata": {
        "colab": {
          "base_uri": "https://localhost:8080/"
        },
        "id": "DB1bM8NCMTub",
        "outputId": "9d8f91b7-3074-4788-e464-5529082cf4ba"
      },
      "outputs": [
        {
          "data": {
            "text/plain": [
              "array([[ 0,  2],\n",
              "       [18, 20]])"
            ]
          },
          "execution_count": 201,
          "metadata": {},
          "output_type": "execute_result"
        }
      ],
      "source": [
        "a3[::2,0,::2]"
      ]
    },
    {
      "cell_type": "code",
      "execution_count": null,
      "metadata": {
        "colab": {
          "base_uri": "https://localhost:8080/"
        },
        "id": "gPOgRWfNLxPF",
        "outputId": "ecbe6944-ed2f-4036-8deb-edc9880285a2"
      },
      "outputs": [
        {
          "data": {
            "text/plain": [
              "array([[22, 23],\n",
              "       [25, 26]])"
            ]
          },
          "execution_count": 200,
          "metadata": {},
          "output_type": "execute_result"
        }
      ],
      "source": [
        "a3[2,1:,1:]"
      ]
    },
    {
      "cell_type": "code",
      "execution_count": null,
      "metadata": {
        "colab": {
          "base_uri": "https://localhost:8080/"
        },
        "id": "S3OJJAMXK7RV",
        "outputId": "b6630bc9-6ffd-4258-fe8f-bc7f988d39fc"
      },
      "outputs": [
        {
          "data": {
            "text/plain": [
              "array([3, 4, 5])"
            ]
          },
          "execution_count": 198,
          "metadata": {},
          "output_type": "execute_result"
        }
      ],
      "source": [
        "a3[0,1,:]"
      ]
    },
    {
      "cell_type": "markdown",
      "metadata": {
        "id": "dUv9qM1yuIKJ"
      },
      "source": [
        "**Iterating**"
      ]
    },
    {
      "cell_type": "code",
      "execution_count": null,
      "metadata": {
        "colab": {
          "base_uri": "https://localhost:8080/"
        },
        "id": "IuRJ1QiRNZRM",
        "outputId": "438cbd63-6e58-49a8-b8c7-313e40addfce"
      },
      "outputs": [
        {
          "name": "stdout",
          "output_type": "stream",
          "text": [
            "0\n",
            "1\n",
            "2\n",
            "3\n",
            "4\n",
            "5\n",
            "6\n",
            "7\n",
            "8\n",
            "9\n",
            "10\n",
            "11\n",
            "12\n",
            "13\n",
            "14\n",
            "15\n",
            "16\n",
            "17\n",
            "18\n",
            "19\n",
            "20\n",
            "21\n",
            "22\n",
            "23\n",
            "24\n",
            "25\n",
            "26\n"
          ]
        }
      ],
      "source": [
        "for i in np.nditer(a3):\n",
        "  print(i)"
      ]
    },
    {
      "cell_type": "markdown",
      "metadata": {
        "id": "ZSS6AF_luNc-"
      },
      "source": [
        "**Reshaping**"
      ]
    },
    {
      "cell_type": "code",
      "execution_count": null,
      "metadata": {
        "colab": {
          "base_uri": "https://localhost:8080/"
        },
        "id": "DBIaUE8duQDz",
        "outputId": "ea99f6b4-b3ef-4cd7-dfee-63f1bcb3f6a3"
      },
      "outputs": [
        {
          "data": {
            "text/plain": [
              "array([[ 0,  4,  8],\n",
              "       [ 1,  5,  9],\n",
              "       [ 2,  6, 10],\n",
              "       [ 3,  7, 11]])"
            ]
          },
          "execution_count": 212,
          "metadata": {},
          "output_type": "execute_result"
        }
      ],
      "source": [
        "# Transpose\n",
        "np.transpose(a2)\n",
        "a2.T"
      ]
    },
    {
      "cell_type": "code",
      "execution_count": null,
      "metadata": {
        "colab": {
          "base_uri": "https://localhost:8080/"
        },
        "id": "IULUNn5OuQMT",
        "outputId": "0588ea26-7e91-4f04-c291-e650892551da"
      },
      "outputs": [
        {
          "data": {
            "text/plain": [
              "array([ 0,  1,  2,  3,  4,  5,  6,  7,  8,  9, 10, 11, 12, 13, 14, 15, 16,\n",
              "       17, 18, 19, 20, 21, 22, 23, 24, 25, 26])"
            ]
          },
          "execution_count": 216,
          "metadata": {},
          "output_type": "execute_result"
        }
      ],
      "source": [
        "# ravel\n",
        "a3.ravel()"
      ]
    },
    {
      "cell_type": "markdown",
      "metadata": {
        "id": "ouKcJQ5EuUQC"
      },
      "source": [
        "**Stacking**"
      ]
    },
    {
      "cell_type": "code",
      "execution_count": null,
      "metadata": {
        "colab": {
          "base_uri": "https://localhost:8080/"
        },
        "id": "HHSY1njTuXLi",
        "outputId": "170f6260-0d4b-40b1-e8ac-0f53110a0770"
      },
      "outputs": [
        {
          "data": {
            "text/plain": [
              "array([[12, 13, 14, 15],\n",
              "       [16, 17, 18, 19],\n",
              "       [20, 21, 22, 23]])"
            ]
          },
          "execution_count": 2,
          "metadata": {},
          "output_type": "execute_result"
        }
      ],
      "source": [
        "# horizontal stacking\n",
        "a4 = np.arange(12).reshape(3,4)\n",
        "a5 = np.arange(12,24).reshape(3,4)\n",
        "a5"
      ]
    },
    {
      "cell_type": "code",
      "execution_count": null,
      "metadata": {
        "colab": {
          "base_uri": "https://localhost:8080/"
        },
        "id": "ne9uXt3yPKez",
        "outputId": "a7a04092-8889-4628-9966-85b7ef7f5b99"
      },
      "outputs": [
        {
          "data": {
            "text/plain": [
              "array([[ 0,  1,  2,  3, 12, 13, 14, 15],\n",
              "       [ 4,  5,  6,  7, 16, 17, 18, 19],\n",
              "       [ 8,  9, 10, 11, 20, 21, 22, 23]])"
            ]
          },
          "execution_count": 223,
          "metadata": {},
          "output_type": "execute_result"
        }
      ],
      "source": [
        "np.hstack((a4,a5))"
      ]
    },
    {
      "cell_type": "code",
      "execution_count": null,
      "metadata": {
        "colab": {
          "base_uri": "https://localhost:8080/"
        },
        "id": "F6bFFNKuuZW5",
        "outputId": "14145606-ead6-417d-ae7f-f9ff5ec78394"
      },
      "outputs": [
        {
          "data": {
            "text/plain": [
              "array([[ 0,  1,  2,  3],\n",
              "       [ 4,  5,  6,  7],\n",
              "       [ 8,  9, 10, 11],\n",
              "       [12, 13, 14, 15],\n",
              "       [16, 17, 18, 19],\n",
              "       [20, 21, 22, 23]])"
            ]
          },
          "execution_count": 222,
          "metadata": {},
          "output_type": "execute_result"
        }
      ],
      "source": [
        "# Vertical stacking\n",
        "np.vstack((a4,a5))"
      ]
    },
    {
      "cell_type": "code",
      "execution_count": 2,
      "metadata": {
        "colab": {
          "base_uri": "https://localhost:8080/"
        },
        "id": "C-UF0D8BAEAi",
        "outputId": "16861787-d88e-4c92-a503-422cc220f7e2"
      },
      "outputs": [
        {
          "data": {
            "text/plain": [
              "array([ 1,  2,  3,  4, 10, 20, 30, 40])"
            ]
          },
          "execution_count": 2,
          "metadata": {},
          "output_type": "execute_result"
        }
      ],
      "source": [
        "# 1D Stacking\n",
        "a1 = np.array([1,2,3,4])\n",
        "a2 = np.array([10, 20, 30, 40])\n",
        "\n",
        "np.hstack((a1, a2))\n",
        "# np.vstack((a1, a2))"
      ]
    },
    {
      "cell_type": "code",
      "execution_count": 4,
      "metadata": {
        "colab": {
          "base_uri": "https://localhost:8080/"
        },
        "id": "933_jtlOAmYN",
        "outputId": "ef0c710a-ba5c-4300-e54f-5b93a6d004f9"
      },
      "outputs": [
        {
          "name": "stdout",
          "output_type": "stream",
          "text": [
            "[[1 5]\n",
            " [4 6]\n",
            " [7 6]\n",
            " [5 5]\n",
            " [8 8]] [[8 7]\n",
            " [6 3]\n",
            " [1 6]\n",
            " [3 5]\n",
            " [0 3]]\n"
          ]
        }
      ],
      "source": [
        "# 2D Stacking\n",
        "a1 = np.random.randint(0, 10, size = (5, 2))\n",
        "a2 = np.random.randint(0, 10, size = (5, 2))\n",
        "print(a1, a2)"
      ]
    },
    {
      "cell_type": "code",
      "execution_count": 6,
      "metadata": {
        "colab": {
          "base_uri": "https://localhost:8080/"
        },
        "id": "_q09t_3cBHwg",
        "outputId": "7cd42496-d04b-4595-b981-3aedcd48f230"
      },
      "outputs": [
        {
          "data": {
            "text/plain": [
              "array([[1, 5],\n",
              "       [4, 6],\n",
              "       [7, 6],\n",
              "       [5, 5],\n",
              "       [8, 8],\n",
              "       [8, 7],\n",
              "       [6, 3],\n",
              "       [1, 6],\n",
              "       [3, 5],\n",
              "       [0, 3]])"
            ]
          },
          "execution_count": 6,
          "metadata": {},
          "output_type": "execute_result"
        }
      ],
      "source": [
        "# np.hstack((a1, a2))\n",
        "np.vstack((a1, a2))"
      ]
    },
    {
      "cell_type": "code",
      "execution_count": 9,
      "metadata": {
        "colab": {
          "base_uri": "https://localhost:8080/"
        },
        "id": "Od0cX04MBZZa",
        "outputId": "112b92ed-12fa-4d18-cdcc-0d18879bd7fc"
      },
      "outputs": [
        {
          "name": "stdout",
          "output_type": "stream",
          "text": [
            "[[[0 0]\n",
            "  [6 5]]\n",
            "\n",
            " [[8 2]\n",
            "  [4 5]]] [[[7 6]\n",
            "  [1 0]]\n",
            "\n",
            " [[3 8]\n",
            "  [0 3]]]\n"
          ]
        }
      ],
      "source": [
        "# 3D Stacking\n",
        "a1 = np.random.randint(0, 9, size = (2,2,2))\n",
        "a2 = np.random.randint(0, 9, size = (2,2,2))\n",
        "print(a1, a2)"
      ]
    },
    {
      "cell_type": "code",
      "execution_count": 11,
      "metadata": {
        "colab": {
          "base_uri": "https://localhost:8080/"
        },
        "id": "veOotU08BvF5",
        "outputId": "62830deb-24eb-4c19-b24f-1c122d46b7f4"
      },
      "outputs": [
        {
          "data": {
            "text/plain": [
              "array([[[0, 0],\n",
              "        [6, 5]],\n",
              "\n",
              "       [[8, 2],\n",
              "        [4, 5]],\n",
              "\n",
              "       [[7, 6],\n",
              "        [1, 0]],\n",
              "\n",
              "       [[3, 8],\n",
              "        [0, 3]]])"
            ]
          },
          "execution_count": 11,
          "metadata": {},
          "output_type": "execute_result"
        }
      ],
      "source": [
        "np.vstack((a1, a2))\n",
        "# np.hstack((a1, a2))"
      ]
    },
    {
      "cell_type": "markdown",
      "metadata": {
        "id": "kaY006uXucF5"
      },
      "source": [
        "**Splitting**"
      ]
    },
    {
      "cell_type": "code",
      "execution_count": null,
      "metadata": {
        "colab": {
          "base_uri": "https://localhost:8080/"
        },
        "id": "kgbl6wkD9ll6",
        "outputId": "419f39fa-9557-4a83-8e90-ee6afb6dedaa"
      },
      "outputs": [
        {
          "data": {
            "text/plain": [
              "array([[ 0,  1,  2,  3],\n",
              "       [ 4,  5,  6,  7],\n",
              "       [ 8,  9, 10, 11]])"
            ]
          },
          "execution_count": 3,
          "metadata": {},
          "output_type": "execute_result"
        }
      ],
      "source": [
        "# horizontal splitting\n",
        "a4"
      ]
    },
    {
      "cell_type": "code",
      "execution_count": null,
      "metadata": {
        "colab": {
          "base_uri": "https://localhost:8080/"
        },
        "id": "FIfZM5BsQE5l",
        "outputId": "dfec8862-b6ae-4fd4-f884-320685192769"
      },
      "outputs": [
        {
          "data": {
            "text/plain": [
              "[array([[0],\n",
              "        [4],\n",
              "        [8]]),\n",
              " array([[1],\n",
              "        [5],\n",
              "        [9]]),\n",
              " array([[ 2],\n",
              "        [ 6],\n",
              "        [10]]),\n",
              " array([[ 3],\n",
              "        [ 7],\n",
              "        [11]])]"
            ]
          },
          "execution_count": 7,
          "metadata": {},
          "output_type": "execute_result"
        }
      ],
      "source": [
        "np.hsplit(a4,4)\n",
        "# The splitting must be homogonous on both the side then only this function will not throw an error"
      ]
    },
    {
      "cell_type": "code",
      "execution_count": null,
      "metadata": {
        "colab": {
          "base_uri": "https://localhost:8080/"
        },
        "id": "qJ2xEBFUuieB",
        "outputId": "d8395819-f098-4caa-9501-281d0722d593"
      },
      "outputs": [
        {
          "data": {
            "text/plain": [
              "array([[12, 13, 14, 15],\n",
              "       [16, 17, 18, 19],\n",
              "       [20, 21, 22, 23]])"
            ]
          },
          "execution_count": 228,
          "metadata": {},
          "output_type": "execute_result"
        }
      ],
      "source": [
        "# vertical splitting\n",
        "a5"
      ]
    },
    {
      "cell_type": "code",
      "execution_count": null,
      "metadata": {
        "colab": {
          "base_uri": "https://localhost:8080/"
        },
        "id": "1wxcLLR_QWVu",
        "outputId": "0c7ca5bf-0e20-43c7-d438-6aa98b079d9a"
      },
      "outputs": [
        {
          "data": {
            "text/plain": [
              "[array([[12, 13, 14, 15]]),\n",
              " array([[16, 17, 18, 19]]),\n",
              " array([[20, 21, 22, 23]])]"
            ]
          },
          "execution_count": 8,
          "metadata": {},
          "output_type": "execute_result"
        }
      ],
      "source": [
        "np.vsplit(a5,3)"
      ]
    }
  ],
  "metadata": {
    "colab": {
      "provenance": []
    },
    "kernelspec": {
      "display_name": "Python 3",
      "name": "python3"
    },
    "language_info": {
      "codemirror_mode": {
        "name": "ipython",
        "version": 3
      },
      "file_extension": ".py",
      "mimetype": "text/x-python",
      "name": "python",
      "nbconvert_exporter": "python",
      "pygments_lexer": "ipython3",
      "version": "3.12.2"
    }
  },
  "nbformat": 4,
  "nbformat_minor": 0
}
