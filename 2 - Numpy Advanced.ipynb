{
  "cells": [
    {
      "cell_type": "markdown",
      "metadata": {
        "id": "exouV4nxLocj"
      },
      "source": [
        "### Numpy array vs Python lists"
      ]
    },
    {
      "cell_type": "markdown",
      "metadata": {
        "id": "uKJY1gy2mWFN"
      },
      "source": [
        "Two most important advantages of numpy over python list -\n",
        "1. Python list is dynamic - every time you insert an element the size well increase to double | Numpy array are static\n",
        "\n",
        "2. As numpy arrays are C arrays - The elements can directly store in memory but | In python list the referance are stored in memory"
      ]
    },
    {
      "cell_type": "code",
      "execution_count": 2,
      "metadata": {
        "colab": {
          "base_uri": "https://localhost:8080/"
        },
        "id": "9ITuYx0tLnbc",
        "outputId": "21422cf3-da43-4099-8636-c9a3661e515d"
      },
      "outputs": [
        {
          "name": "stdout",
          "output_type": "stream",
          "text": [
            "4.69896388053894\n"
          ]
        }
      ],
      "source": [
        "# speed\n",
        "# list\n",
        "a = [i for i in range(10000000)]\n",
        "b = [i for i in range(10000000,20000000)]\n",
        "\n",
        "c = []\n",
        "import time\n",
        "\n",
        "start = time.time()\n",
        "for i in range(len(a)):\n",
        "  c.append(a[i] + b[i])\n",
        "print(time.time()-start)"
      ]
    },
    {
      "cell_type": "code",
      "execution_count": 3,
      "metadata": {
        "colab": {
          "base_uri": "https://localhost:8080/"
        },
        "id": "EW6ISYk6ZifP",
        "outputId": "8951379a-12d1-4402-f13a-e08ba7898261"
      },
      "outputs": [
        {
          "name": "stdout",
          "output_type": "stream",
          "text": [
            "0.319699764251709\n"
          ]
        }
      ],
      "source": [
        "# numpy\n",
        "import numpy as np\n",
        "a = np.arange(10000000)\n",
        "b = np.arange(10000000,20000000)\n",
        "\n",
        "start = time.time()\n",
        "c = a + b\n",
        "print(time.time()-start)"
      ]
    },
    {
      "cell_type": "code",
      "execution_count": null,
      "metadata": {
        "colab": {
          "base_uri": "https://localhost:8080/"
        },
        "id": "D0rcBlxZB5tb",
        "outputId": "32a771cb-2a7b-429e-b7e9-0f2b21bbc501"
      },
      "outputs": [
        {
          "data": {
            "text/plain": [
              "54.33333333333333"
            ]
          },
          "execution_count": 5,
          "metadata": {},
          "output_type": "execute_result"
        }
      ],
      "source": [
        "3.26/0.06"
      ]
    },
    {
      "cell_type": "code",
      "execution_count": null,
      "metadata": {
        "colab": {
          "base_uri": "https://localhost:8080/"
        },
        "id": "PSC79592SIZz",
        "outputId": "b4edede0-306d-4556-a902-17a7dbb1d528"
      },
      "outputs": [
        {
          "data": {
            "text/plain": [
              "89095160"
            ]
          },
          "execution_count": 6,
          "metadata": {},
          "output_type": "execute_result"
        }
      ],
      "source": [
        "# memory\n",
        "a = [i for i in range(10000000)]\n",
        "import sys\n",
        "\n",
        "sys.getsizeof(a)"
      ]
    },
    {
      "cell_type": "code",
      "execution_count": null,
      "metadata": {
        "colab": {
          "base_uri": "https://localhost:8080/"
        },
        "id": "mk_U1oHuaOSo",
        "outputId": "9cba4ce7-3c67-4171-bac5-7b2d3ed60781"
      },
      "outputs": [
        {
          "name": "stdout",
          "output_type": "stream",
          "text": [
            "127\n"
          ]
        },
        {
          "data": {
            "text/plain": [
              "10000112"
            ]
          },
          "execution_count": 8,
          "metadata": {},
          "output_type": "execute_result"
        }
      ],
      "source": [
        "a = np.arange(10000000,dtype=np.int8)\n",
        "print(a[len(a)-1])\n",
        "sys.getsizeof(a)"
      ]
    },
    {
      "cell_type": "markdown",
      "metadata": {
        "id": "ys2XP4StneRI"
      },
      "source": [
        "What is the advantage of list over numpy arrays\n",
        "--> it can store non homogonous elements"
      ]
    },
    {
      "cell_type": "markdown",
      "metadata": {
        "id": "G7gJ1-8fLLEI"
      },
      "source": [
        "**Advanced Indexing**"
      ]
    },
    {
      "cell_type": "code",
      "execution_count": null,
      "metadata": {
        "colab": {
          "base_uri": "https://localhost:8080/"
        },
        "id": "vTt8xIaa1I1Y",
        "outputId": "d08c245d-4ffd-48bf-e1e0-e53336768778"
      },
      "outputs": [
        {
          "data": {
            "text/plain": [
              "array([[ 5,  6],\n",
              "       [ 9, 10]])"
            ]
          },
          "execution_count": 22,
          "metadata": {},
          "output_type": "execute_result"
        }
      ],
      "source": [
        "# Normal Indexing and slicing\n",
        "a = np.arange(24).reshape(6,4)\n",
        "a[1:3,1:3]"
      ]
    },
    {
      "cell_type": "markdown",
      "metadata": {
        "id": "ugRB20TyrxVM"
      },
      "source": [
        "**Fancy Indexing - Mostly used for selecting columns in pandas**"
      ]
    },
    {
      "cell_type": "code",
      "execution_count": null,
      "metadata": {
        "colab": {
          "base_uri": "https://localhost:8080/"
        },
        "id": "qxCgXTRo1Lk8",
        "outputId": "ff2d2010-c717-4d89-a40e-374ba8473160"
      },
      "outputs": [
        {
          "data": {
            "text/plain": [
              "array([[ 0,  2,  3],\n",
              "       [ 4,  6,  7],\n",
              "       [ 8, 10, 11],\n",
              "       [12, 14, 15],\n",
              "       [16, 18, 19],\n",
              "       [20, 22, 23]])"
            ]
          },
          "execution_count": 81,
          "metadata": {},
          "output_type": "execute_result"
        }
      ],
      "source": [
        "# Fancy Indexing\n",
        "a[:,[0,2,3]]"
      ]
    },
    {
      "cell_type": "code",
      "execution_count": null,
      "metadata": {
        "colab": {
          "base_uri": "https://localhost:8080/"
        },
        "id": "1BIkbzQCFUft",
        "outputId": "7d67ed9b-821c-4176-d58c-d5c4d0a8294c"
      },
      "outputs": [
        {
          "data": {
            "text/plain": [
              "array([[ 0,  2],\n",
              "       [ 8, 10],\n",
              "       [12, 14]])"
            ]
          },
          "execution_count": 21,
          "metadata": {},
          "output_type": "execute_result"
        }
      ],
      "source": [
        "a[[0,2,3], 0:4:2]"
      ]
    },
    {
      "cell_type": "markdown",
      "metadata": {
        "id": "G45kHBI0uDPt"
      },
      "source": [
        "**Boolen Indexing**"
      ]
    },
    {
      "cell_type": "code",
      "execution_count": 4,
      "metadata": {
        "colab": {
          "base_uri": "https://localhost:8080/"
        },
        "id": "3hrTxRuy1Noi",
        "outputId": "b2f0c9ae-9b33-49c0-811f-ab480999cb40"
      },
      "outputs": [
        {
          "data": {
            "text/plain": [
              "array([[18, 47, 64, 98],\n",
              "       [35, 18, 24, 21],\n",
              "       [75, 32, 84, 65],\n",
              "       [84, 18, 97, 52],\n",
              "       [95, 42, 99,  1],\n",
              "       [17,  5, 75, 67]])"
            ]
          },
          "execution_count": 4,
          "metadata": {},
          "output_type": "execute_result"
        }
      ],
      "source": [
        "a = np.random.randint(1, 100, size = (6,4))\n",
        "a"
      ]
    },
    {
      "cell_type": "code",
      "execution_count": null,
      "metadata": {
        "colab": {
          "base_uri": "https://localhost:8080/"
        },
        "id": "Q_-PR4enuLBU",
        "outputId": "b49dcb9b-d2f0-485e-f24b-6920f72e59f2"
      },
      "outputs": [
        {
          "data": {
            "text/plain": [
              "array([74, 72, 56, 62, 70, 78])"
            ]
          },
          "execution_count": 29,
          "metadata": {},
          "output_type": "execute_result"
        }
      ],
      "source": [
        "# Find all numbers greater than 50 and those are even\n",
        "a[(a > 50) & (a % 2 == 0)]"
      ]
    },
    {
      "cell_type": "code",
      "execution_count": null,
      "metadata": {
        "colab": {
          "base_uri": "https://localhost:8080/"
        },
        "id": "zMvMQcm01mcG",
        "outputId": "608dfc5b-1457-40ba-d706-70f220bd582c"
      },
      "outputs": [
        {
          "data": {
            "text/plain": [
              "array([76, 98, 99, 91, 88, 83, 78, 85, 54, 73, 61, 53, 93, 85, 77])"
            ]
          },
          "execution_count": 90,
          "metadata": {},
          "output_type": "execute_result"
        }
      ],
      "source": [
        "# find all numbers greater than 50\n",
        "a[a > 50]"
      ]
    },
    {
      "cell_type": "code",
      "execution_count": null,
      "metadata": {
        "colab": {
          "base_uri": "https://localhost:8080/"
        },
        "id": "_4BwwwxEG68r",
        "outputId": "0bc7ef64-a860-4c39-b1bb-98d8f73ad999"
      },
      "outputs": [
        {
          "data": {
            "text/plain": [
              "array([76, 98, 46, 88,  6, 78, 54, 40])"
            ]
          },
          "execution_count": 92,
          "metadata": {},
          "output_type": "execute_result"
        }
      ],
      "source": [
        "# find out even numbers\n",
        "a[a % 2 == 0]"
      ]
    },
    {
      "cell_type": "code",
      "execution_count": 5,
      "metadata": {
        "colab": {
          "base_uri": "https://localhost:8080/",
          "height": 205
        },
        "id": "MIk_GnwQ1sS2",
        "outputId": "0b3e8ed7-0354-4a93-c4e8-e3901e395ced"
      },
      "outputs": [
        {
          "data": {
            "text/plain": [
              "array([64, 98, 84, 84, 52])"
            ]
          },
          "execution_count": 5,
          "metadata": {},
          "output_type": "execute_result"
        }
      ],
      "source": [
        "# find all numbers greater than 50 and are even\n",
        "a[(a > 50) & (a % 2 == 0)]"
      ]
    },
    {
      "cell_type": "code",
      "execution_count": null,
      "metadata": {
        "colab": {
          "base_uri": "https://localhost:8080/"
        },
        "id": "rhGQtwkl6W7k",
        "outputId": "f6f525b9-9556-4c9c-aa9c-bd56bb7cab0c"
      },
      "outputs": [
        {
          "data": {
            "text/plain": [
              "array([76, 99, 39, 46, 88, 23, 45,  6, 83,  1, 37, 43, 78, 85, 54, 73, 61,\n",
              "       53, 40, 93, 85])"
            ]
          },
          "execution_count": 96,
          "metadata": {},
          "output_type": "execute_result"
        }
      ],
      "source": [
        "# find all numbers not divisible by 7\n",
        "a[~(a % 7 == 0)]"
      ]
    },
    {
      "cell_type": "markdown",
      "metadata": {
        "id": "n2UP2iZTLPR5"
      },
      "source": [
        "**Broadcasting**\n",
        "\n",
        "The term broadcasting describes how NumPy treats arrays with different shapes during arithmetic operations.\n",
        "\n",
        "The smaller array is “broadcast” across the larger array so that they have compatible shapes."
      ]
    },
    {
      "cell_type": "code",
      "execution_count": 6,
      "metadata": {
        "colab": {
          "base_uri": "https://localhost:8080/",
          "height": 280
        },
        "id": "I4Z7ADXf_wFi",
        "outputId": "a6318cac-3702-4633-c762-e961811dc0a2"
      },
      "outputs": [
        {
          "name": "stdout",
          "output_type": "stream",
          "text": [
            "[[ 1  2  3]\n",
            " [ 4  5  6]\n",
            " [ 7  8  9]\n",
            " [10 11 12]]\n",
            "[[1 2 3]\n",
            " [4 5 6]]\n"
          ]
        },
        {
          "ename": "ValueError",
          "evalue": "operands could not be broadcast together with shapes (4,3) (2,3) ",
          "output_type": "error",
          "traceback": [
            "\u001b[1;31m---------------------------------------------------------------------------\u001b[0m",
            "\u001b[1;31mValueError\u001b[0m                                Traceback (most recent call last)",
            "Cell \u001b[1;32mIn[6], line 6\u001b[0m\n\u001b[0;32m      3\u001b[0m a2 \u001b[38;5;241m=\u001b[39m np\u001b[38;5;241m.\u001b[39marange(\u001b[38;5;241m1\u001b[39m, \u001b[38;5;241m7\u001b[39m)\u001b[38;5;241m.\u001b[39mreshape(\u001b[38;5;241m2\u001b[39m, \u001b[38;5;241m3\u001b[39m)\n\u001b[0;32m      4\u001b[0m \u001b[38;5;28mprint\u001b[39m(a2)\n\u001b[1;32m----> 6\u001b[0m \u001b[43ma1\u001b[49m\u001b[43m \u001b[49m\u001b[38;5;241;43m+\u001b[39;49m\u001b[43m \u001b[49m\u001b[43ma2\u001b[49m \u001b[38;5;66;03m# 3rd rule of broadcasting\u001b[39;00m\n",
            "\u001b[1;31mValueError\u001b[0m: operands could not be broadcast together with shapes (4,3) (2,3) "
          ]
        }
      ],
      "source": [
        "a1 = np.arange(1, 13).reshape(4, 3)\n",
        "print(a1)\n",
        "a2 = np.arange(1, 7).reshape(2, 3)\n",
        "print(a2)\n",
        "\n",
        "a1 + a2 # 3rd rule of broadcasting"
      ]
    },
    {
      "cell_type": "code",
      "execution_count": null,
      "metadata": {
        "colab": {
          "base_uri": "https://localhost:8080/",
          "height": 263
        },
        "id": "-5E7kInWAdI0",
        "outputId": "de6ad83b-6445-4045-9e94-5c5d104a4873"
      },
      "outputs": [
        {
          "name": "stdout",
          "output_type": "stream",
          "text": [
            "[[ 1  2  3]\n",
            " [ 4  5  6]\n",
            " [ 7  8  9]\n",
            " [10 11 12]]\n",
            "[1 2]\n"
          ]
        },
        {
          "ename": "ValueError",
          "evalue": "operands could not be broadcast together with shapes (4,3) (2,) ",
          "output_type": "error",
          "traceback": [
            "\u001b[0;31m---------------------------------------------------------------------------\u001b[0m",
            "\u001b[0;31mValueError\u001b[0m                                Traceback (most recent call last)",
            "\u001b[0;32m<ipython-input-34-9e63a981ca62>\u001b[0m in \u001b[0;36m<cell line: 6>\u001b[0;34m()\u001b[0m\n\u001b[1;32m      4\u001b[0m \u001b[0mprint\u001b[0m\u001b[0;34m(\u001b[0m\u001b[0ma2\u001b[0m\u001b[0;34m)\u001b[0m\u001b[0;34m\u001b[0m\u001b[0;34m\u001b[0m\u001b[0m\n\u001b[1;32m      5\u001b[0m \u001b[0;34m\u001b[0m\u001b[0m\n\u001b[0;32m----> 6\u001b[0;31m \u001b[0ma1\u001b[0m \u001b[0;34m+\u001b[0m \u001b[0ma2\u001b[0m\u001b[0;34m\u001b[0m\u001b[0;34m\u001b[0m\u001b[0m\n\u001b[0m",
            "\u001b[0;31mValueError\u001b[0m: operands could not be broadcast together with shapes (4,3) (2,) "
          ]
        }
      ],
      "source": [
        "a1 = np.arange(1, 13).reshape(4, 3)\n",
        "print(a1)\n",
        "a2 = np.array([1, 2])\n",
        "print(a2)\n",
        "\n",
        "a1 + a2 # This also cannot get addded as a single dimention does not match the others dimention"
      ]
    },
    {
      "cell_type": "code",
      "execution_count": null,
      "metadata": {
        "colab": {
          "base_uri": "https://localhost:8080/"
        },
        "id": "tJTrjKxoCYhT",
        "outputId": "efeae6e2-add6-4e95-e1d4-b71c806438f2"
      },
      "outputs": [
        {
          "name": "stdout",
          "output_type": "stream",
          "text": [
            "[[0 1 2]\n",
            " [3 4 5]]\n",
            "[[ 6  7  8]\n",
            " [ 9 10 11]]\n",
            "[[ 6  8 10]\n",
            " [12 14 16]]\n"
          ]
        }
      ],
      "source": [
        "# same shape\n",
        "a = np.arange(6).reshape(2,3)\n",
        "b = np.arange(6,12).reshape(2,3)\n",
        "\n",
        "print(a)\n",
        "print(b)\n",
        "\n",
        "print(a+b)"
      ]
    },
    {
      "cell_type": "code",
      "execution_count": null,
      "metadata": {
        "colab": {
          "base_uri": "https://localhost:8080/"
        },
        "id": "f-mVhFT-N3jF",
        "outputId": "dbd6e2bd-f05b-4113-f2e6-b31ded8873cf"
      },
      "outputs": [
        {
          "name": "stdout",
          "output_type": "stream",
          "text": [
            "[[0 1 2]\n",
            " [3 4 5]]\n",
            "[[0 1 2]]\n",
            "[[0 2 4]\n",
            " [3 5 7]]\n"
          ]
        }
      ],
      "source": [
        "# diff shape\n",
        "a = np.arange(6).reshape(2,3)\n",
        "b = np.arange(3).reshape(1,3)\n",
        "\n",
        "print(a)\n",
        "print(b)\n",
        "\n",
        "print(a+b)"
      ]
    },
    {
      "cell_type": "markdown",
      "metadata": {
        "id": "XXzDHsndO70t"
      },
      "source": [
        "#### Broadcasting Rules\n",
        "\n",
        "**1. Make the two arrays have the same number of dimensions.**<br>\n",
        "- If the numbers of dimensions of the two arrays are different, add new dimensions with size 1 to the head of the array with the smaller dimension.<br>"
      ]
    },
    {
      "cell_type": "markdown",
      "metadata": {
        "id": "M_ZI1gpEPdwi"
      },
      "source": [
        "**2. Make each dimension of the two arrays the same size.**<br>\n",
        "- If the sizes of each dimension of the two arrays do not match, dimensions with size 1 are stretched to the size of the other array.\n",
        "- If there is a dimension whose size is not 1 in either of the two arrays, it cannot be broadcasted, and an error is raised."
      ]
    },
    {
      "cell_type": "markdown",
      "metadata": {
        "id": "6YxVl8iZVLEh"
      },
      "source": [
        "<img src = \"https://jakevdp.github.io/PythonDataScienceHandbook/figures/02.05-broadcasting.png\">"
      ]
    },
    {
      "cell_type": "code",
      "execution_count": null,
      "metadata": {
        "colab": {
          "base_uri": "https://localhost:8080/"
        },
        "id": "0WKia_sDRaNm",
        "outputId": "20e7fd8a-f8f5-4650-f3ef-8d014e8e7c27"
      },
      "outputs": [
        {
          "name": "stdout",
          "output_type": "stream",
          "text": [
            "[[ 0  1  2]\n",
            " [ 3  4  5]\n",
            " [ 6  7  8]\n",
            " [ 9 10 11]]\n",
            "[0 1 2]\n",
            "[[ 0  2  4]\n",
            " [ 3  5  7]\n",
            " [ 6  8 10]\n",
            " [ 9 11 13]]\n"
          ]
        }
      ],
      "source": [
        "# More examples\n",
        "\n",
        "a = np.arange(12).reshape(4,3)\n",
        "b = np.arange(3)\n",
        "\n",
        "print(a)\n",
        "print(b)\n",
        "\n",
        "print(a+b)"
      ]
    },
    {
      "cell_type": "code",
      "execution_count": null,
      "metadata": {
        "colab": {
          "base_uri": "https://localhost:8080/",
          "height": 277
        },
        "id": "SqtTHUngRhss",
        "outputId": "37a5dc7b-75b7-4cb3-9348-26197ccdf97c"
      },
      "outputs": [
        {
          "name": "stdout",
          "output_type": "stream",
          "text": [
            "[[ 0  1  2  3]\n",
            " [ 4  5  6  7]\n",
            " [ 8  9 10 11]]\n",
            "[0 1 2]\n"
          ]
        },
        {
          "ename": "ValueError",
          "evalue": "ignored",
          "output_type": "error",
          "traceback": [
            "\u001b[0;31m---------------------------------------------------------------------------\u001b[0m",
            "\u001b[0;31mValueError\u001b[0m                                Traceback (most recent call last)",
            "\u001b[0;32m<ipython-input-104-fa6cbb589166>\u001b[0m in \u001b[0;36m<module>\u001b[0;34m\u001b[0m\n\u001b[1;32m      5\u001b[0m \u001b[0mprint\u001b[0m\u001b[0;34m(\u001b[0m\u001b[0mb\u001b[0m\u001b[0;34m)\u001b[0m\u001b[0;34m\u001b[0m\u001b[0;34m\u001b[0m\u001b[0m\n\u001b[1;32m      6\u001b[0m \u001b[0;34m\u001b[0m\u001b[0m\n\u001b[0;32m----> 7\u001b[0;31m \u001b[0mprint\u001b[0m\u001b[0;34m(\u001b[0m\u001b[0ma\u001b[0m\u001b[0;34m+\u001b[0m\u001b[0mb\u001b[0m\u001b[0;34m)\u001b[0m\u001b[0;34m\u001b[0m\u001b[0;34m\u001b[0m\u001b[0m\n\u001b[0m",
            "\u001b[0;31mValueError\u001b[0m: operands could not be broadcast together with shapes (3,4) (3,) "
          ]
        }
      ],
      "source": [
        "a = np.arange(12).reshape(3,4)\n",
        "b = np.arange(3)\n",
        "\n",
        "print(a)\n",
        "print(b)\n",
        "\n",
        "print(a+b)"
      ]
    },
    {
      "cell_type": "code",
      "execution_count": null,
      "metadata": {
        "colab": {
          "base_uri": "https://localhost:8080/"
        },
        "id": "5hQ269ncQedR",
        "outputId": "b6f1ed7f-95da-4e52-cb8e-a58f41a34add"
      },
      "outputs": [
        {
          "name": "stdout",
          "output_type": "stream",
          "text": [
            "[[0 1 2]]\n",
            "[[0]\n",
            " [1]\n",
            " [2]]\n",
            "[[0 1 2]\n",
            " [1 2 3]\n",
            " [2 3 4]]\n"
          ]
        }
      ],
      "source": [
        "a = np.arange(3).reshape(1,3)\n",
        "b = np.arange(3).reshape(3,1)\n",
        "\n",
        "print(a)\n",
        "print(b)\n",
        "\n",
        "print(a+b)"
      ]
    },
    {
      "cell_type": "code",
      "execution_count": null,
      "metadata": {
        "colab": {
          "base_uri": "https://localhost:8080/"
        },
        "id": "sc4X7IQVRujU",
        "outputId": "97a1aad8-1827-4038-ea8d-1d4516359d36"
      },
      "outputs": [
        {
          "name": "stdout",
          "output_type": "stream",
          "text": [
            "[[0 1 2]]\n",
            "[[0]\n",
            " [1]\n",
            " [2]\n",
            " [3]]\n",
            "[[0 1 2]\n",
            " [1 2 3]\n",
            " [2 3 4]\n",
            " [3 4 5]]\n"
          ]
        }
      ],
      "source": [
        "a = np.arange(3).reshape(1,3)\n",
        "b = np.arange(4).reshape(4,1)\n",
        "\n",
        "print(a)\n",
        "print(b)\n",
        "\n",
        "print(a + b)"
      ]
    },
    {
      "cell_type": "code",
      "execution_count": null,
      "metadata": {
        "colab": {
          "base_uri": "https://localhost:8080/"
        },
        "id": "v6EwwULkQuvs",
        "outputId": "48990123-6b83-414c-c42f-5f0b593a4967"
      },
      "outputs": [
        {
          "name": "stdout",
          "output_type": "stream",
          "text": [
            "[1]\n",
            "[[0 1]\n",
            " [2 3]]\n",
            "[[1 2]\n",
            " [3 4]]\n"
          ]
        }
      ],
      "source": [
        "a = np.array([1])\n",
        "# shape -> (1,1)\n",
        "b = np.arange(4).reshape(2,2)\n",
        "# shape -> (2,2)\n",
        "\n",
        "print(a)\n",
        "print(b)\n",
        "\n",
        "print(a+b)"
      ]
    },
    {
      "cell_type": "code",
      "execution_count": null,
      "metadata": {
        "colab": {
          "base_uri": "https://localhost:8080/",
          "height": 330
        },
        "id": "nEgUi7tnRGI4",
        "outputId": "8de08148-7f3e-4a03-823c-0c4e157a556e"
      },
      "outputs": [
        {
          "name": "stdout",
          "output_type": "stream",
          "text": [
            "[[ 0  1  2  3]\n",
            " [ 4  5  6  7]\n",
            " [ 8  9 10 11]]\n",
            "[[ 0  1  2]\n",
            " [ 3  4  5]\n",
            " [ 6  7  8]\n",
            " [ 9 10 11]]\n"
          ]
        },
        {
          "ename": "ValueError",
          "evalue": "ignored",
          "output_type": "error",
          "traceback": [
            "\u001b[0;31m---------------------------------------------------------------------------\u001b[0m",
            "\u001b[0;31mValueError\u001b[0m                                Traceback (most recent call last)",
            "\u001b[0;32m<ipython-input-109-c590a65467e5>\u001b[0m in \u001b[0;36m<module>\u001b[0;34m\u001b[0m\n\u001b[1;32m      5\u001b[0m \u001b[0mprint\u001b[0m\u001b[0;34m(\u001b[0m\u001b[0mb\u001b[0m\u001b[0;34m)\u001b[0m\u001b[0;34m\u001b[0m\u001b[0;34m\u001b[0m\u001b[0m\n\u001b[1;32m      6\u001b[0m \u001b[0;34m\u001b[0m\u001b[0m\n\u001b[0;32m----> 7\u001b[0;31m \u001b[0mprint\u001b[0m\u001b[0;34m(\u001b[0m\u001b[0ma\u001b[0m\u001b[0;34m+\u001b[0m\u001b[0mb\u001b[0m\u001b[0;34m)\u001b[0m\u001b[0;34m\u001b[0m\u001b[0;34m\u001b[0m\u001b[0m\n\u001b[0m",
            "\u001b[0;31mValueError\u001b[0m: operands could not be broadcast together with shapes (3,4) (4,3) "
          ]
        }
      ],
      "source": [
        "a = np.arange(12).reshape(3,4)\n",
        "b = np.arange(12).reshape(4,3)\n",
        "\n",
        "print(a)\n",
        "print(b)\n",
        "\n",
        "print(a+b)"
      ]
    },
    {
      "cell_type": "code",
      "execution_count": null,
      "metadata": {
        "colab": {
          "base_uri": "https://localhost:8080/",
          "height": 312
        },
        "id": "kelF0GRBR3--",
        "outputId": "233ef62e-b775-4f00-c61d-dd9131067183"
      },
      "outputs": [
        {
          "name": "stdout",
          "output_type": "stream",
          "text": [
            "[[ 0  1  2  3]\n",
            " [ 4  5  6  7]\n",
            " [ 8  9 10 11]\n",
            " [12 13 14 15]]\n",
            "[[0 1]\n",
            " [2 3]]\n"
          ]
        },
        {
          "ename": "ValueError",
          "evalue": "ignored",
          "output_type": "error",
          "traceback": [
            "\u001b[0;31m---------------------------------------------------------------------------\u001b[0m",
            "\u001b[0;31mValueError\u001b[0m                                Traceback (most recent call last)",
            "\u001b[0;32m<ipython-input-110-57df50a0058a>\u001b[0m in \u001b[0;36m<module>\u001b[0;34m\u001b[0m\n\u001b[1;32m      5\u001b[0m \u001b[0mprint\u001b[0m\u001b[0;34m(\u001b[0m\u001b[0mb\u001b[0m\u001b[0;34m)\u001b[0m\u001b[0;34m\u001b[0m\u001b[0;34m\u001b[0m\u001b[0m\n\u001b[1;32m      6\u001b[0m \u001b[0;34m\u001b[0m\u001b[0m\n\u001b[0;32m----> 7\u001b[0;31m \u001b[0mprint\u001b[0m\u001b[0;34m(\u001b[0m\u001b[0ma\u001b[0m\u001b[0;34m+\u001b[0m\u001b[0mb\u001b[0m\u001b[0;34m)\u001b[0m\u001b[0;34m\u001b[0m\u001b[0;34m\u001b[0m\u001b[0m\n\u001b[0m",
            "\u001b[0;31mValueError\u001b[0m: operands could not be broadcast together with shapes (4,4) (2,2) "
          ]
        }
      ],
      "source": [
        "a = np.arange(16).reshape(4,4)\n",
        "b = np.arange(4).reshape(2,2)\n",
        "\n",
        "print(a)\n",
        "print(b)\n",
        "\n",
        "print(a+b)"
      ]
    },
    {
      "cell_type": "markdown",
      "metadata": {
        "id": "oTBqc8yFD8Vu"
      },
      "source": [
        "*Interview Question\n",
        "Use of Broadcasting - Vectorization\n",
        "Numpy internally avoide loops so they created new technique called vectorization*"
      ]
    },
    {
      "cell_type": "markdown",
      "metadata": {
        "id": "UNqpEw03LSl6"
      },
      "source": [
        "**Working with mathematical formulas**"
      ]
    },
    {
      "cell_type": "code",
      "execution_count": null,
      "metadata": {
        "colab": {
          "base_uri": "https://localhost:8080/"
        },
        "id": "U01nMTh-N-h_",
        "outputId": "f78780bf-cea2-4234-f03f-38df6c36f812"
      },
      "outputs": [
        {
          "data": {
            "text/plain": [
              "array([ 0.        ,  0.84147098,  0.90929743,  0.14112001, -0.7568025 ,\n",
              "       -0.95892427, -0.2794155 ,  0.6569866 ,  0.98935825,  0.41211849])"
            ]
          },
          "execution_count": 114,
          "metadata": {},
          "output_type": "execute_result"
        }
      ],
      "source": [
        "a = np.arange(10)\n",
        "np.sin(a)"
      ]
    },
    {
      "cell_type": "code",
      "execution_count": null,
      "metadata": {
        "colab": {
          "base_uri": "https://localhost:8080/"
        },
        "id": "Sf6T8s8VCZum",
        "outputId": "976e4793-59c8-4590-bc57-5c3df210c1c3"
      },
      "outputs": [
        {
          "data": {
            "text/plain": [
              "array([0.5       , 0.73105858, 0.88079708, 0.95257413, 0.98201379,\n",
              "       0.99330715, 0.99752738, 0.99908895, 0.99966465, 0.99987661,\n",
              "       0.9999546 , 0.9999833 , 0.99999386, 0.99999774, 0.99999917,\n",
              "       0.99999969, 0.99999989, 0.99999996, 0.99999998, 0.99999999,\n",
              "       1.        , 1.        , 1.        , 1.        , 1.        ,\n",
              "       1.        , 1.        , 1.        , 1.        , 1.        ,\n",
              "       1.        , 1.        , 1.        , 1.        , 1.        ,\n",
              "       1.        , 1.        , 1.        , 1.        , 1.        ,\n",
              "       1.        , 1.        , 1.        , 1.        , 1.        ,\n",
              "       1.        , 1.        , 1.        , 1.        , 1.        ,\n",
              "       1.        , 1.        , 1.        , 1.        , 1.        ,\n",
              "       1.        , 1.        , 1.        , 1.        , 1.        ,\n",
              "       1.        , 1.        , 1.        , 1.        , 1.        ,\n",
              "       1.        , 1.        , 1.        , 1.        , 1.        ,\n",
              "       1.        , 1.        , 1.        , 1.        , 1.        ,\n",
              "       1.        , 1.        , 1.        , 1.        , 1.        ,\n",
              "       1.        , 1.        , 1.        , 1.        , 1.        ,\n",
              "       1.        , 1.        , 1.        , 1.        , 1.        ,\n",
              "       1.        , 1.        , 1.        , 1.        , 1.        ,\n",
              "       1.        , 1.        , 1.        , 1.        , 1.        ])"
            ]
          },
          "execution_count": 117,
          "metadata": {},
          "output_type": "execute_result"
        }
      ],
      "source": [
        "# sigmoid\n",
        "def sigmoid(array):\n",
        "  return 1/(1 + np.exp(-(array)))\n",
        "\n",
        "\n",
        "a = np.arange(100)\n",
        "\n",
        "sigmoid(a)"
      ]
    },
    {
      "cell_type": "code",
      "execution_count": null,
      "metadata": {
        "id": "3jaule_JOcdc"
      },
      "outputs": [],
      "source": [
        "# mean squared error\n",
        "\n",
        "actual = np.random.randint(1,50,25)\n",
        "predicted = np.random.randint(1,50,25)"
      ]
    },
    {
      "cell_type": "code",
      "execution_count": null,
      "metadata": {
        "colab": {
          "base_uri": "https://localhost:8080/"
        },
        "id": "qfoOOAAUQzhY",
        "outputId": "25d8bc85-fc80-49ef-9e75-196a5a0ff0c5"
      },
      "outputs": [
        {
          "data": {
            "text/plain": [
              "500.12"
            ]
          },
          "execution_count": 122,
          "metadata": {},
          "output_type": "execute_result"
        }
      ],
      "source": [
        "def mse(actual,predicted):\n",
        "  return np.mean((actual - predicted)**2)\n",
        "\n",
        "mse(actual,predicted)"
      ]
    },
    {
      "cell_type": "code",
      "execution_count": null,
      "metadata": {
        "colab": {
          "base_uri": "https://localhost:8080/"
        },
        "id": "3O6WqXi-OdIO",
        "outputId": "5f32815f-893e-4654-9285-6ef9af6def5f"
      },
      "outputs": [
        {
          "data": {
            "text/plain": [
              "500.12"
            ]
          },
          "execution_count": 125,
          "metadata": {},
          "output_type": "execute_result"
        }
      ],
      "source": [
        "np.mean((actual - predicted)**2)"
      ]
    },
    {
      "cell_type": "code",
      "execution_count": null,
      "metadata": {
        "colab": {
          "base_uri": "https://localhost:8080/"
        },
        "id": "plXemGIXQfmR",
        "outputId": "de7b1bb0-b763-49ca-8b99-94d248f2a54d"
      },
      "outputs": [
        {
          "data": {
            "text/plain": [
              "array([ 5,  3,  9,  7,  3, 36, 49, 28, 20, 40,  2, 23, 29, 18, 30, 23,  7,\n",
              "       40, 15, 11, 27, 44, 32, 28, 10])"
            ]
          },
          "execution_count": 119,
          "metadata": {},
          "output_type": "execute_result"
        }
      ],
      "source": [
        "actual"
      ]
    },
    {
      "cell_type": "markdown",
      "metadata": {},
      "source": [
        "![image.png](data:image/png;base64,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)"
      ]
    },
    {
      "cell_type": "code",
      "execution_count": 5,
      "metadata": {
        "colab": {
          "base_uri": "https://localhost:8080/"
        },
        "id": "9I5SPNurJeq4",
        "outputId": "a3f635ca-dc33-4157-abd8-6c5c5f89669d"
      },
      "outputs": [
        {
          "name": "stdout",
          "output_type": "stream",
          "text": [
            "0.5300044285961093\n"
          ]
        }
      ],
      "source": [
        "# binary cross entropy\n",
        "# def BinaryCrossEntropy(y_true, y_pred):\n",
        "#     y_pred = np.clip(y_pred, 1e-7, 1 - 1e-7)\n",
        "#     print(y_pred)\n",
        "#     term_0 = (1-y_true) * np.log(1-y_pred + 1e-7)\n",
        "#     term_1 = y_true * np.log(y_pred + 1e-7)\n",
        "#     return -np.mean(term_0+term_1, axis=0)\n",
        "\n",
        "# print(BinaryCrossEntropy(np.array([1, 1, 1]).reshape(-1, 1),\n",
        "#                          np.array([1, 1, 0]).reshape(-1, 1)))\n",
        "\n",
        "\n",
        "def bce(y_actual, y_predicted):\n",
        "  term0 = y_actual * (np.log(y_predicted))\n",
        "  term1 = (1-y_actual) * (np.log(1-y_predicted))\n",
        "  return -np.mean(term0 + term1)\n",
        "\n",
        "print(bce(np.array([0.1, 0.2, 0.3]).reshape(-1, 1), np.array([0.1, 0.2, 0.1]).reshape(-1, 1)))"
      ]
    },
    {
      "cell_type": "code",
      "execution_count": 7,
      "metadata": {
        "colab": {
          "base_uri": "https://localhost:8080/"
        },
        "id": "N7DSMNbo79fw",
        "outputId": "166bdb01-6009-4afa-c7a1-87ede2f86597"
      },
      "outputs": [
        {
          "data": {
            "text/plain": [
              "array([[ 1],\n",
              "       [91],\n",
              "       [81]])"
            ]
          },
          "execution_count": 7,
          "metadata": {},
          "output_type": "execute_result"
        }
      ],
      "source": [
        "np.array([1, 91, 81]).reshape(-1, 1) # Here -1 is like len(array) - 1"
      ]
    },
    {
      "cell_type": "markdown",
      "metadata": {
        "id": "d9olU9IoLX8P"
      },
      "source": [
        "**Working with missing values**"
      ]
    },
    {
      "cell_type": "code",
      "execution_count": null,
      "metadata": {
        "colab": {
          "base_uri": "https://localhost:8080/"
        },
        "id": "LhrsmaIfChjL",
        "outputId": "7e2c55af-6e86-4dfb-adbb-1f6a0d62099e"
      },
      "outputs": [
        {
          "data": {
            "text/plain": [
              "array([ 1.,  2.,  3.,  4., nan,  6.])"
            ]
          },
          "execution_count": 126,
          "metadata": {},
          "output_type": "execute_result"
        }
      ],
      "source": [
        "# Working with missing values -> np.nan\n",
        "a = np.array([1,2,3,4,np.nan,6])\n",
        "a"
      ]
    },
    {
      "cell_type": "code",
      "execution_count": null,
      "metadata": {
        "colab": {
          "base_uri": "https://localhost:8080/"
        },
        "id": "dYI5z7g6S_TI",
        "outputId": "2238d623-f056-497c-844a-e38bd204821f"
      },
      "outputs": [
        {
          "data": {
            "text/plain": [
              "array([1., 2., 3., 4., 6.])"
            ]
          },
          "execution_count": 130,
          "metadata": {},
          "output_type": "execute_result"
        }
      ],
      "source": [
        "a[~np.isnan(a)]"
      ]
    },
    {
      "cell_type": "markdown",
      "metadata": {
        "id": "LdVWeHyeLdw5"
      },
      "source": [
        "**Plotting Graphs**"
      ]
    },
    {
      "cell_type": "code",
      "execution_count": 15,
      "metadata": {
        "colab": {
          "base_uri": "https://localhost:8080/",
          "height": 283
        },
        "id": "2XjXkt9JCm9q",
        "outputId": "3cf8071a-7fc5-48be-ece4-2b7896fd8a63"
      },
      "outputs": [
        {
          "data": {
            "image/png": "[encoded data removed]",
            "text/plain": [
              "<Figure size 300x200 with 1 Axes>"
            ]
          },
          "metadata": {},
          "output_type": "display_data"
        }
      ],
      "source": [
        "import matplotlib.pyplot as plt\n",
        "\n",
        "plt.style.use('default')\n",
        "\n",
        "x = np.linspace(-10,10,100)\n",
        "y = x\n",
        "\n",
        "plt.figure(figsize=(3,2))\n",
        "plt.plot(x,y)\n",
        "plt.show()"
      ]
    },
    {
      "cell_type": "code",
      "execution_count": 16,
      "metadata": {
        "colab": {
          "base_uri": "https://localhost:8080/",
          "height": 283
        },
        "id": "SyYCKM--V7Uw",
        "outputId": "ef8c3245-56e0-4210-e4d3-4f4f784f39ab"
      },
      "outputs": [
        {
          "data": {
            "text/plain": [
              "[<matplotlib.lines.Line2D at 0x27126392a50>]"
            ]
          },
          "execution_count": 16,
          "metadata": {},
          "output_type": "execute_result"
        },
        {
          "data": {
            "image/png": "[encoded data removed]",
            "text/plain": [
              "<Figure size 300x200 with 1 Axes>"
            ]
          },
          "metadata": {},
          "output_type": "display_data"
        }
      ],
      "source": [
        "# y = x^2\n",
        "plt.figure(figsize=(3,2))\n",
        "x = np.linspace(-10,10,100)\n",
        "y = x**2\n",
        "\n",
        "plt.plot(x,y)"
      ]
    },
    {
      "cell_type": "code",
      "execution_count": 17,
      "metadata": {
        "colab": {
          "base_uri": "https://localhost:8080/",
          "height": 283
        },
        "id": "lG-QRoWdWHxp",
        "outputId": "11b66200-e2f0-4d23-8b42-02b9d8573e4a"
      },
      "outputs": [
        {
          "data": {
            "text/plain": [
              "[<matplotlib.lines.Line2D at 0x27126482840>]"
            ]
          },
          "execution_count": 17,
          "metadata": {},
          "output_type": "execute_result"
        },
        {
          "data": {
            "image/png": "[encoded data removed]",
            "text/plain": [
              "<Figure size 300x200 with 1 Axes>"
            ]
          },
          "metadata": {},
          "output_type": "display_data"
        }
      ],
      "source": [
        "# y = sin(x)\n",
        "plt.figure(figsize=(3,2))\n",
        "x = np.linspace(-10,10,100)\n",
        "y = np.sin(x)\n",
        "\n",
        "plt.plot(x,y)"
      ]
    },
    {
      "cell_type": "code",
      "execution_count": 19,
      "metadata": {
        "colab": {
          "base_uri": "https://localhost:8080/",
          "height": 319
        },
        "id": "EpuzrF8YWUqD",
        "outputId": "3e61f24d-a9f9-4d28-a303-3ff9390899cb"
      },
      "outputs": [
        {
          "data": {
            "text/plain": [
              "[<matplotlib.lines.Line2D at 0x2712653e780>]"
            ]
          },
          "execution_count": 19,
          "metadata": {},
          "output_type": "execute_result"
        },
        {
          "data": {
            "image/png": "[encoded data removed]",
            "text/plain": [
              "<Figure size 300x200 with 1 Axes>"
            ]
          },
          "metadata": {},
          "output_type": "display_data"
        }
      ],
      "source": [
        "# y = xlog(x)\n",
        "plt.figure(figsize=(3,2))\n",
        "x = np.linspace(1,10,100)\n",
        "y = x * np.log(x)\n",
        "\n",
        "plt.plot(x,y)"
      ]
    },
    {
      "cell_type": "code",
      "execution_count": 21,
      "metadata": {
        "colab": {
          "base_uri": "https://localhost:8080/",
          "height": 283
        },
        "id": "LidUuDKVW5De",
        "outputId": "651766f0-8f17-4b64-d436-1aca8ad7ee73"
      },
      "outputs": [
        {
          "data": {
            "text/plain": [
              "[<matplotlib.lines.Line2D at 0x27126615cd0>]"
            ]
          },
          "execution_count": 21,
          "metadata": {},
          "output_type": "execute_result"
        },
        {
          "data": {
            "image/png": "[encoded data removed]",
            "text/plain": [
              "<Figure size 300x200 with 1 Axes>"
            ]
          },
          "metadata": {},
          "output_type": "display_data"
        }
      ],
      "source": [
        "# sigmoid\n",
        "plt.figure(figsize=(3,2))\n",
        "x = np.linspace(-10,10,100)\n",
        "y = 1/(1+np.exp(-x))\n",
        "\n",
        "plt.plot(x,y)"
      ]
    },
    {
      "cell_type": "markdown",
      "metadata": {
        "id": "1sw0TeY7LiGK"
      },
      "source": [
        "**Meshgrids**"
      ]
    },
    {
      "cell_type": "code",
      "execution_count": 6,
      "metadata": {
        "id": "xQP6c_ISE75r"
      },
      "outputs": [
        {
          "data": {
            "text/plain": [
              "array([[-10.        , -10.        , -10.        , ..., -10.        ,\n",
              "        -10.        , -10.        ],\n",
              "       [ -9.97997998,  -9.97997998,  -9.97997998, ...,  -9.97997998,\n",
              "         -9.97997998,  -9.97997998],\n",
              "       [ -9.95995996,  -9.95995996,  -9.95995996, ...,  -9.95995996,\n",
              "         -9.95995996,  -9.95995996],\n",
              "       ...,\n",
              "       [  9.95995996,   9.95995996,   9.95995996, ...,   9.95995996,\n",
              "          9.95995996,   9.95995996],\n",
              "       [  9.97997998,   9.97997998,   9.97997998, ...,   9.97997998,\n",
              "          9.97997998,   9.97997998],\n",
              "       [ 10.        ,  10.        ,  10.        , ...,  10.        ,\n",
              "         10.        ,  10.        ]])"
            ]
          },
          "execution_count": 6,
          "metadata": {},
          "output_type": "execute_result"
        }
      ],
      "source": [
        "# Meshgrids\n",
        "x = np.linspace(-10, 10, 1000)\n",
        "y = np.linspace(-10, 10, 1000)\n",
        "\n",
        "xx, yy = np.meshgrid(x, y)\n",
        "yy"
      ]
    }
  ],
  "metadata": {
    "colab": {
      "provenance": []
    },
    "kernelspec": {
      "display_name": "Python 3",
      "name": "python3"
    },
    "language_info": {
      "codemirror_mode": {
        "name": "ipython",
        "version": 3
      },
      "file_extension": ".py",
      "mimetype": "text/x-python",
      "name": "python",
      "nbconvert_exporter": "python",
      "pygments_lexer": "ipython3",
      "version": "3.12.2"
    }
  },
  "nbformat": 4,
  "nbformat_minor": 0
}
